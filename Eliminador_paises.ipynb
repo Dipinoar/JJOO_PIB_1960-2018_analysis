{
 "cells": [
  {
   "cell_type": "code",
   "execution_count": 2,
   "id": "72335e43",
   "metadata": {},
   "outputs": [],
   "source": [
    "import pandas as pd\n",
    "\n",
    "# Cargar el archivo CSV \"indicadores_economicos.csv\"\n",
    "df_indicadores = pd.read_csv('indicadores_economicos.csv')\n",
    "\n",
    "# Cargar el archivo CSV \"tabla_olympics.csv\"\n",
    "df_olympics = pd.read_csv('tabla_olympics.csv')\n",
    "\n",
    "#Cargar el archivo CSV \"medallas_año.csv\"\n",
    "df_medallas=pd.read_csv('medallas_año.csv')\n",
    "\n",
    "# Obtener la lista de países presentes en el archivo de indicadores económicos\n",
    "paises_indicadores = df_indicadores['Country Name'].unique()\n",
    "\n",
    "# Filtrar el DataFrame de tabla_olympics solo para los países presentes en los indicadores económicos\n",
    "df_olympics = df_olympics[df_olympics['Country Name'].isin(paises_indicadores)]\n",
    "\n",
    "# Filtrar el DataFrame de tabla_olympics solo para los países presentes en los indicadores económicos\n",
    "df_medallas = df_medallas[df_medallas['Country Name'].isin(df_olympics['Country Name'].unique())]\n",
    "\n",
    "# modificar el DataFrame resultante en el archivo CSV\n",
    "df_olympics.to_csv('tabla_olympics.csv', index=False)\n",
    "df_medallas.to_csv('medallas_año.csv', index=False)\n"
   ]
  },
  {
   "cell_type": "code",
   "execution_count": null,
   "id": "1924d31f",
   "metadata": {},
   "outputs": [],
   "source": []
  }
 ],
 "metadata": {
  "kernelspec": {
   "display_name": "Python 3 (ipykernel)",
   "language": "python",
   "name": "python3"
  },
  "language_info": {
   "codemirror_mode": {
    "name": "ipython",
    "version": 3
   },
   "file_extension": ".py",
   "mimetype": "text/x-python",
   "name": "python",
   "nbconvert_exporter": "python",
   "pygments_lexer": "ipython3",
   "version": "3.10.6"
  }
 },
 "nbformat": 4,
 "nbformat_minor": 5
}
