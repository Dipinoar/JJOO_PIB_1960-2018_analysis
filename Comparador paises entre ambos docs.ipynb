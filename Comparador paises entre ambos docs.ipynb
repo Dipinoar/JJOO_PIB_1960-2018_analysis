{
 "cells": [
  {
   "cell_type": "code",
   "execution_count": 10,
   "id": "ce0dfc12",
   "metadata": {},
   "outputs": [
    {
     "name": "stdout",
     "output_type": "stream",
     "text": [
      "Los valores en la columna 'Country Name' son iguales en ambos archivos.\n"
     ]
    }
   ],
   "source": [
    "import pandas as pd\n",
    "\n",
    "# Cargar los archivos CSV\n",
    "df_indicadores = pd.read_csv('indicadores_economicos.csv')\n",
    "df_olympics = pd.read_csv('tabla_olympics.csv')\n",
    "# Obtener los valores únicos de la columna \"Country Name\" en cada DataFrame\n",
    "indicadores_countries = df_indicadores['Country Name'].unique()\n",
    "olympics_countries = df_olympics['Country Name'].unique()\n",
    "medallas_countries= df_medallas['Country Name'].unique()\n",
    "\n",
    "# Verificar si los valores únicos son los mismos en ambas columnas\n",
    "if set(indicadores_countries) == set(olympics_countries):\n",
    "    print(\"Los valores en la columna 'Country Name' son iguales en ambos archivos.\")\n",
    "else:\n",
    "    # Encontrar los valores que son diferentes\n",
    "    different_countries = set(indicadores_countries) ^ set(olympics_countries)\n",
    "    print(\"Los siguientes países tienen valores diferentes en la columna 'Country Name':\")\n",
    "    for country in different_countries:\n",
    "        print(country)\n",
    "\n"
   ]
  },
  {
   "cell_type": "code",
   "execution_count": null,
   "id": "44c2e583",
   "metadata": {},
   "outputs": [],
   "source": []
  },
  {
   "cell_type": "code",
   "execution_count": null,
   "id": "448c751b",
   "metadata": {},
   "outputs": [],
   "source": []
  }
 ],
 "metadata": {
  "kernelspec": {
   "display_name": "Python 3 (ipykernel)",
   "language": "python",
   "name": "python3"
  },
  "language_info": {
   "codemirror_mode": {
    "name": "ipython",
    "version": 3
   },
   "file_extension": ".py",
   "mimetype": "text/x-python",
   "name": "python",
   "nbconvert_exporter": "python",
   "pygments_lexer": "ipython3",
   "version": "3.10.6"
  }
 },
 "nbformat": 4,
 "nbformat_minor": 5
}
