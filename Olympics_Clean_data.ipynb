{
 "cells": [
  {
   "cell_type": "code",
   "execution_count": 3,
   "id": "6785aaf5",
   "metadata": {},
   "outputs": [],
   "source": [
    "import pandas as pd\n",
    "\n",
    "def cargar_archivos(datos_csv, olympics_csv):\n",
    "    # Cargar el archivo CSV \"country-codes.csv\", el cual servirá para la homologación de países en ambos archivos. En el caso de los datos olímpicos, los códigos de los países están en formato IOC\n",
    "    df_country_codes = pd.read_csv(datos_csv)\n",
    "\n",
    "    # Cargar el archivo CSV \"olympics_games.csv\", el cual contiene datos históricos de los competidores de los juegos olímpicos desde 1896 a 2016\n",
    "    df_olympics = pd.read_csv(olympics_csv)\n",
    "    \n",
    "    return df_country_codes, df_olympics\n",
    "\n",
    "def filtrar_olympics(df_olympics, df_country_codes):\n",
    "    # Realizar un merge entre los dos dataframes utilizando la columna NOC y IOC del archivo de códigos\n",
    "    df_merged = pd.merge(df_olympics, df_country_codes, left_on='NOC', right_on='IOC')\n",
    "\n",
    "    # Convertir la columna 'Year' a tipo fecha\n",
    "    df_merged['Year'] = pd.to_datetime(df_merged['Year'], format='%Y')\n",
    "\n",
    "    # Filtrar los datos a partir del año 1960, ya que los datos del Banco Central abarcan desde 1960 a 2016 \n",
    "    df_merged = df_merged[df_merged['Year'] >= '1960']\n",
    "\n",
    "    return df_merged\n",
    "\n",
    "def guardar_tabla_olympics(df_filtered):\n",
    "    # Filtrar las columnas necesarias\n",
    "    df_filtered = df_filtered[['Country Name', 'Year', 'Season', 'City']]\n",
    "\n",
    "    # Agrupar los datos por país, año, temporada y ciudad, y contar los participantes. Esto también se puede hacer directamente en Tableau, pero de esta manera se mantiene un mejor control de los datos\n",
    "    df_grouped = df_filtered.groupby(['Country Name', 'Year', 'Season', 'City']).size().reset_index(name='Cantidad de Participantes')\n",
    "\n",
    "    # Guardar el DataFrame resultante en un archivo CSV que servirá para crear el gráfico de competidores por país para cada año.\n",
    "    df_grouped.to_csv('tabla_olympics.csv', index=False)\n",
    "\n",
    "def filtrar_medallas(df_merged):\n",
    "    # Filtrar las columnas necesarias\n",
    "    df_filtrado2 = df_merged[['Country Name', 'Year', 'Sport', 'Medal']]\n",
    "\n",
    "     # Agrupar los datos por país, año, deporte y tipo de medalla, y contar las medallas\n",
    "    df_agrupado2 = df_filtrado2.groupby(['Country Name', 'Year', 'Sport', 'Medal']).size().reset_index(name='Total Medals')\n",
    "\n",
    "    # Crear un nuevo archivo csv con los datos del dataframe que servirá para crear los gráficos de medallas obtenidas por cada país\n",
    "    df_agrupado2.to_csv('medallas_año.csv', index=False)\n",
    "\n",
    "def main(datos_csv, olympics_csv):\n",
    "    df_country_codes, df_olympics = cargar_archivos(datos_csv, olympics_csv)\n",
    "    df_merged = filtrar_olympics(df_olympics, df_country_codes)\n",
    "    guardar_tabla_olympics(df_merged)\n",
    "    filtrar_medallas(df_merged)\n",
    "\n",
    "if __name__ == \"__main__\":\n",
    "    main('datos.csv', 'olympics_games.csv')\n",
    "\n"
   ]
  },
  {
   "cell_type": "code",
   "execution_count": null,
   "id": "88de56f4",
   "metadata": {},
   "outputs": [],
   "source": []
  },
  {
   "cell_type": "code",
   "execution_count": null,
   "id": "977e0f65",
   "metadata": {},
   "outputs": [],
   "source": []
  }
 ],
 "metadata": {
  "kernelspec": {
   "display_name": "Python 3 (ipykernel)",
   "language": "python",
   "name": "python3"
  },
  "language_info": {
   "codemirror_mode": {
    "name": "ipython",
    "version": 3
   },
   "file_extension": ".py",
   "mimetype": "text/x-python",
   "name": "python",
   "nbconvert_exporter": "python",
   "pygments_lexer": "ipython3",
   "version": "3.10.6"
  }
 },
 "nbformat": 4,
 "nbformat_minor": 5
}
