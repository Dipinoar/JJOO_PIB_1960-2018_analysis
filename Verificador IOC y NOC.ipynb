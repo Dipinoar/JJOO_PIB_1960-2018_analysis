{
 "cells": [
  {
   "cell_type": "code",
   "execution_count": 15,
   "id": "29b857db",
   "metadata": {
    "scrolled": true
   },
   "outputs": [
    {
     "name": "stdout",
     "output_type": "stream",
     "text": [
      "Los siguientes códigos NOC están ausentes en el archivo 'data.csv':\n",
      "URS\n",
      "UAR\n",
      "YAR\n",
      "FRG\n",
      "TCH\n",
      "SRB\n",
      "MAL\n",
      "SAA\n",
      "RHO\n",
      "BOH\n",
      "NBO\n"
     ]
    }
   ],
   "source": [
    "import pandas as pd\n",
    "\n",
    "# Cargar los datos del archivo \"olympics_games.csv\"\n",
    "olympics_df = pd.read_csv(\"olympics_games.csv\")\n",
    "\n",
    "# Cargar los datos del archivo \"data.csv\"\n",
    "data_df = pd.read_csv(\"datos.csv\")\n",
    "\n",
    "# Obtener los códigos NOC únicos del archivo \"olympics_games.csv\"\n",
    "noc_list = olympics_df['NOC'].unique()\n",
    "\n",
    "# Verificar si todos los códigos NOC están presentes en la columna \"IOC\" del archivo \"data.csv\"\n",
    "missing_nocs = [noc for noc in noc_list if noc not in data_df['IOC'].values]\n",
    "\n",
    "# Imprimir los códigos NOC faltantes\n",
    "if len(missing_nocs) > 0:\n",
    "    print(\"Los siguientes códigos NOC están ausentes en el archivo 'data.csv':\")\n",
    "    for noc in missing_nocs:\n",
    "        print(noc)\n",
    "else:\n",
    "    print(\"Todos los códigos NOC del archivo 'olympics_games.csv' están presentes en el archivo 'data.csv'.\")\n",
    "\n",
    "\n"
   ]
  },
  {
   "cell_type": "code",
   "execution_count": null,
   "id": "6f16d78c",
   "metadata": {},
   "outputs": [],
   "source": []
  },
  {
   "cell_type": "code",
   "execution_count": null,
   "id": "ac77c898",
   "metadata": {},
   "outputs": [],
   "source": []
  }
 ],
 "metadata": {
  "kernelspec": {
   "display_name": "Python 3 (ipykernel)",
   "language": "python",
   "name": "python3"
  },
  "language_info": {
   "codemirror_mode": {
    "name": "ipython",
    "version": 3
   },
   "file_extension": ".py",
   "mimetype": "text/x-python",
   "name": "python",
   "nbconvert_exporter": "python",
   "pygments_lexer": "ipython3",
   "version": "3.10.6"
  }
 },
 "nbformat": 4,
 "nbformat_minor": 5
}
