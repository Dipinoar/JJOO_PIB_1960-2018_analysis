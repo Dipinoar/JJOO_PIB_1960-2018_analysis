{
 "cells": [
  {
   "cell_type": "code",
   "execution_count": 3,
   "id": "da707db2",
   "metadata": {},
   "outputs": [],
   "source": [
    "import pandas as pd\n",
    "import numpy as np\n",
    "from sklearn.linear_model import LinearRegression\n",
    "\n",
    "# Cargar los datos de indicadores_economicos.csv\n",
    "df_indicadores = pd.read_csv('indicadores_economicos.csv')\n",
    "\n",
    "# Convertir la columna 'Year' a tipo fecha y extraer solo el año como entero\n",
    "df_indicadores['Year'] = pd.to_datetime(df_indicadores['Year']).dt.year\n",
    "\n",
    "# Columnas relevantes seleccionadas manualmente\n",
    "columnas_relevantes = ['GDP (current US$) [NY.GDP.MKTP.CD]', 'GDP growth (annual %) [NY.GDP.MKTP.KD.ZG]', 'Gross capital formation (% of GDP) [NE.GDI.TOTL.ZS]', \n",
    "                       'Inflation, GDP deflator (annual %) [NY.GDP.DEFL.KD.ZG]', 'Exports of goods and services (% of GDP) [NE.EXP.GNFS.ZS]',\n",
    "                       'Imports of goods and services (% of GDP) [NE.IMP.GNFS.ZS]', 'Total natural resources rents (% of GDP) [NY.GDP.TOTL.RT.ZS]']\n",
    "\n",
    "# Agrupar por país\n",
    "grupos_pais = df_indicadores.groupby('Country Name')\n",
    "\n",
    "# Definir la función de ajuste para cada columna relevante\n",
    "def ajustar_columna(datos):\n",
    "    for columna in columnas_relevantes:\n",
    "        # Obtener los valores conocidos y sus respectivos años\n",
    "        x_known = datos.loc[~datos[columna].isna(), 'Year'].values.reshape(-1, 1)\n",
    "        y_known = datos.loc[~datos[columna].isna(), columna].values\n",
    "        \n",
    "        # Si no hay valores conocidos, no se puede ajustar el modelo, así que continuamos con la siguiente columna\n",
    "        if len(x_known) == 0:\n",
    "            continue\n",
    "        \n",
    "        # Crear el modelo de regresión lineal\n",
    "        modelo_lineal = LinearRegression()\n",
    "        \n",
    "        # Ajustar el modelo a los datos conocidos\n",
    "        modelo_lineal.fit(x_known, y_known)\n",
    "               \n",
    "        # Obtener los años con valores perdidos en la columna actual\n",
    "        x_pred = datos[datos[columna].isna()]['Year'].values.reshape(-1, 1)\n",
    "        \n",
    "        if len(x_pred) == 0:\n",
    "            continue\n",
    "                \n",
    "        # Predecir los valores perdidos\n",
    "        y_pred = modelo_lineal.predict(x_pred)\n",
    "        \n",
    "        # Actualizar los valores perdidos en el DataFrame original con los valores ajustados\n",
    "        datos.loc[datos[columna].isna(), columna] = y_pred.flatten()\n",
    "    \n",
    "    return datos\n",
    "\n",
    "# Aplicar la función de ajuste a cada grupo (país) y columna relevante\n",
    "df_indicadores = grupos_pais.apply(ajustar_columna)\n",
    "\n",
    "# Guardar el DataFrame con los valores ajustados en un nuevo archivo CSV\n",
    "df_indicadores.to_csv('indicadores_economicos_ajustados.csv', index=False)\n"
   ]
  },
  {
   "cell_type": "code",
   "execution_count": null,
   "id": "cf9524a2",
   "metadata": {},
   "outputs": [],
   "source": []
  }
 ],
 "metadata": {
  "kernelspec": {
   "display_name": "Python 3 (ipykernel)",
   "language": "python",
   "name": "python3"
  },
  "language_info": {
   "codemirror_mode": {
    "name": "ipython",
    "version": 3
   },
   "file_extension": ".py",
   "mimetype": "text/x-python",
   "name": "python",
   "nbconvert_exporter": "python",
   "pygments_lexer": "ipython3",
   "version": "3.10.6"
  }
 },
 "nbformat": 4,
 "nbformat_minor": 5
}
