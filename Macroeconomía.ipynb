{
 "cells": [
  {
   "cell_type": "code",
   "execution_count": 3,
   "id": "b5d4e326",
   "metadata": {},
   "outputs": [],
   "source": [
    "import pandas as pd\n",
    "import numpy as np\n",
    "\n",
    "# Cargar la hoja de cálculo de Excel con indicadores económicos\n",
    "df_economicos = pd.read_excel('world_bank_data.xlsx')\n",
    "\n",
    "# Cargar el archivo CSV \"country-codes.csv\"\n",
    "df_country_codes = pd.read_csv('datos.csv')\n",
    "\n",
    "# Columnas relevantes seleccionadas manualmente\n",
    "columnas_relevantes = ['Country Code', 'Time', 'GDP (current US$)', 'GDP growth (annual %)', 'Gross capital formation (% of GDP)', 'Inflation, GDP deflator (annual %)', 'Exports of goods and services (% of GDP)', 'Imports of goods and services (% of GDP)', 'Total natural resources rents (% of GDP)']\n",
    "\n",
    "# Verificar y seleccionar solo las columnas relevantes que existen en el DataFrame\n",
    "columnas_existentes = [col for col in df_economicos.columns if any(relevant_col in col for relevant_col in columnas_relevantes)]\n",
    "df1 = df_economicos[columnas_existentes]\n",
    "\n",
    "# Reemplazar el símbolo \"..\" con NaN para que dropna() pueda eliminar los valores faltantes\n",
    "df1 = df1.replace('..', np.NaN)\n",
    "\n",
    "# Realizar un merge entre los dataframes df1 y df_country_codes utilizando la columna 'ISO3166-1-Alpha-3'\n",
    "df1 = pd.merge(df1, df_country_codes[['Country Name','ISO 3166-1 Alpha-3']], left_on='Country Code', right_on='ISO 3166-1 Alpha-3', how='left')\n",
    "\n",
    "# Convertir la columna 'Time' a tipo fecha\n",
    "df1['Time'] = pd.to_datetime(df1['Time'], format='%Y')\n",
    "\n",
    "# Filtrar los datos hasta el año 2016\n",
    "df1 = df1[df1['Time'] <= pd.to_datetime('2016')]\n",
    "\n",
    "# Cargar el archivo CSV creado en el paso anterior \"tabla_olympics.csv\"\n",
    "df_olympics = pd.read_csv('tabla_olympics.csv')\n",
    "\n",
    "# Obtener la lista de países presentes en el archivo de juegos olímpicos\n",
    "paises_olimpicos = df_olympics['Country Name'].unique()\n",
    "\n",
    "# Filtrar el DataFrame de indicadores económicos solo para los países presentes en los juegos olímpicos\n",
    "df1 = df1[df1['Country Name'].isin(paises_olimpicos)]\n",
    "\n",
    "df1 = df1.rename(columns={'Time': 'Year'})\n",
    "\n",
    "# Guardar el DataFrame resultante en un archivo CSV\n",
    "df1.to_csv('indicadores_economicos.csv', index=False)\n"
   ]
  },
  {
   "cell_type": "code",
   "execution_count": null,
   "id": "6628b0fc",
   "metadata": {},
   "outputs": [],
   "source": []
  },
  {
   "cell_type": "code",
   "execution_count": null,
   "id": "ebd81eca",
   "metadata": {},
   "outputs": [],
   "source": []
  },
  {
   "cell_type": "code",
   "execution_count": null,
   "id": "d1cb035e",
   "metadata": {},
   "outputs": [],
   "source": []
  }
 ],
 "metadata": {
  "kernelspec": {
   "display_name": "Python 3 (ipykernel)",
   "language": "python",
   "name": "python3"
  },
  "language_info": {
   "codemirror_mode": {
    "name": "ipython",
    "version": 3
   },
   "file_extension": ".py",
   "mimetype": "text/x-python",
   "name": "python",
   "nbconvert_exporter": "python",
   "pygments_lexer": "ipython3",
   "version": "3.10.6"
  }
 },
 "nbformat": 4,
 "nbformat_minor": 5
}
